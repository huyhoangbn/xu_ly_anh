{
 "cells": [
  {
   "cell_type": "code",
   "execution_count": 32,
   "metadata": {},
   "outputs": [],
   "source": [
    "import math\n",
    "import numpy as np\n",
    "from PIL import Image\n",
    "import matplotlib.pyplot as plt\n",
    "import cv2\n"
   ]
  },
  {
   "cell_type": "code",
   "execution_count": 33,
   "metadata": {},
   "outputs": [],
   "source": [
    "NUM_ROW = 6\n",
    "NUM_COL = 6\n",
    "NUM_BLOCK = 36"
   ]
  },
  {
   "cell_type": "code",
   "execution_count": 34,
   "metadata": {},
   "outputs": [],
   "source": [
    "def suffleImage(image, block_size_x, block_size_y):\n",
    "    image2 = np.array(image)\n",
    "    image2 = image2[0:NUM_ROW*block_size_y, 0:NUM_COL*block_size_x, 0:3]\n",
    "\n",
    "    block_images = np.zeros((block_size_y, block_size_x, 3, NUM_BLOCK))\n",
    "    suffle_image = np.zeros(\n",
    "        (NUM_ROW*block_size_y, NUM_COL*block_size_x, 3), dtype='uint8')\n",
    "    index = np.random.permutation(NUM_BLOCK)\n",
    "\n",
    "    for i in range(0, NUM_ROW):\n",
    "    \tfor j in range(0, NUM_COL):\n",
    "    \t\tymin = i * block_size_y\n",
    "    \t\txmin = j * block_size_x\n",
    "    \t\tindextmp = index[i * NUM_ROW + j]\n",
    "    \t\tblock_images[:, :, :, indextmp] = image2[ymin:ymin +\n",
    "                                               block_size_y, xmin:xmin+block_size_x, :]\n",
    "    \t\ty = math.floor(indextmp/NUM_ROW)\n",
    "    \t\tx = indextmp - y * NUM_ROW\n",
    "    \t\tsuffle_image[y*block_size_y:(y+1)*block_size_y, x*block_size_x:(\n",
    "    \t\t    x+1)*block_size_x, ::-1] = block_images[:, :, :, indextmp]\n",
    "\n",
    "    return [suffle_image, block_images]\n"
   ]
  },
  {
   "cell_type": "code",
   "execution_count": 35,
   "metadata": {},
   "outputs": [],
   "source": [
    "image = Image.open('./input.jpg')\n",
    "[width, height] = image.size\n",
    "[block_size_x, block_size_y] = [math.floor(\n",
    "    width/NUM_COL), math.floor(height/NUM_ROW)]\n",
    "blocks = np.zeros((block_size_y, block_size_x, 3, NUM_COL * NUM_ROW))\n",
    "image_copy = np.array(image)"
   ]
  },
  {
   "cell_type": "code",
   "execution_count": 36,
   "metadata": {},
   "outputs": [],
   "source": [
    "for i in range(NUM_ROW):\n",
    "    for j in range(NUM_COL):\n",
    "        x = j * block_size_x\n",
    "        y = i * block_size_y\n",
    "        blocks[:, :, :, NUM_ROW * i + j] = image_copy[y:y +\n",
    "                                                      block_size_y, x:x+block_size_x, :]\n",
    "\n",
    "[suffle_image, block_images] = suffleImage(image, block_size_x, block_size_y)"
   ]
  },
  {
   "cell_type": "code",
   "execution_count": 37,
   "metadata": {},
   "outputs": [],
   "source": [
    "image = np.array(image)\n",
    "image_gray = cv2.cvtColor(image, cv2.COLOR_BGR2GRAY)"
   ]
  },
  {
   "cell_type": "code",
   "execution_count": 38,
   "metadata": {},
   "outputs": [],
   "source": [
    "threshold = 0.85\n",
    "swap_list = []\n",
    "swapped = [0] * NUM_ROW * NUM_COL"
   ]
  },
  {
   "cell_type": "code",
   "execution_count": 39,
   "metadata": {},
   "outputs": [],
   "source": [
    "for i in range(NUM_ROW*NUM_COL):\n",
    "    template = block_images[:, :, :, i].astype('uint8')\n",
    "    template = cv2.cvtColor(template, cv2.COLOR_BGR2GRAY)\n",
    "    w, h = template.shape[::-1]\n",
    "\n",
    "    thresh_list = []\n",
    "    for j in range(NUM_ROW*NUM_COL):\n",
    "        if swapped[j] == 1:\n",
    "            continue\n",
    "        source_image = blocks[:, :, :, j].astype('uint8')\n",
    "        source_image = cv2.cvtColor(source_image, cv2.COLOR_BGR2GRAY)\n",
    "        res = cv2.matchTemplate(source_image, template, cv2.TM_CCOEFF_NORMED)\n",
    "        if res >= threshold:\n",
    "            thresh_list.append([j, res[0][0]])\n",
    "    thresh_list = np.array(thresh_list)\n",
    "    max_index = int(thresh_list[np.argmax(thresh_list[:, 1])][0])\n",
    "    swap_list.append([i, max_index])\n",
    "    swapped[max_index] = 1"
   ]
  },
  {
   "cell_type": "code",
   "execution_count": 40,
   "metadata": {},
   "outputs": [],
   "source": [
    "block_images_solved = np.zeros(\n",
    "    (block_size_y, block_size_x, 3, NUM_COL * NUM_ROW))\n",
    "for swap in swap_list:\n",
    "    block_images_solved[:, :, :, swap[1]] = block_images[:, :, :, swap[0]]\n",
    "solved_image = np.zeros((height, width, 3), dtype='uint8')\n",
    "for i in range(NUM_ROW):\n",
    "    for j in range(NUM_COL):\n",
    "        x = j * block_size_x\n",
    "        y = i * block_size_y\n",
    "        block_index = NUM_ROW * i + j\n",
    "        solved_image[y:y+block_size_y, x:x+block_size_x,\n",
    "                     ::-1] = block_images_solved[:, :, :, block_index]"
   ]
  },
  {
   "cell_type": "code",
   "execution_count": 41,
   "metadata": {},
   "outputs": [
    {
     "data": {
      "text/plain": [
       "True"
      ]
     },
     "execution_count": 41,
     "metadata": {},
     "output_type": "execute_result"
    }
   ],
   "source": [
    "cv2.imwrite('image_cut.jpg', suffle_image)\n",
    "cv2.imwrite('image_again.jpg', solved_image)"
   ]
  },
  {
   "cell_type": "code",
   "execution_count": null,
   "metadata": {},
   "outputs": [],
   "source": []
  }
 ],
 "metadata": {
  "kernelspec": {
   "display_name": "Python 3",
   "language": "python",
   "name": "python3"
  },
  "language_info": {
   "codemirror_mode": {
    "name": "ipython",
    "version": 3
   },
   "file_extension": ".py",
   "mimetype": "text/x-python",
   "name": "python",
   "nbconvert_exporter": "python",
   "pygments_lexer": "ipython3",
   "version": "3.7.3"
  }
 },
 "nbformat": 4,
 "nbformat_minor": 2
}
